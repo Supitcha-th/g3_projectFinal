{
  "nbformat": 4,
  "nbformat_minor": 0,
  "metadata": {
    "colab": {
      "name": "Dataprepare_final",
      "provenance": []
    },
    "kernelspec": {
      "name": "python3",
      "display_name": "Python 3"
    },
    "language_info": {
      "name": "python"
    }
  },
  "cells": [
    {
      "cell_type": "markdown",
      "metadata": {
        "id": "tgPVeRE4mTlY"
      },
      "source": [
        "#Clean data"
      ]
    },
    {
      "cell_type": "markdown",
      "metadata": {
        "id": "x9JlzBaSm3nO"
      },
      "source": [
        "## ขั้นตอนที่1 Import Data"
      ]
    },
    {
      "cell_type": "markdown",
      "metadata": {
        "id": "usdRmifk--y4"
      },
      "source": [
        "โดยการโหลดข้อมูลจากทาง Google drive โดยไฟล์มีชื่อว่า \"data.csv\""
      ]
    },
    {
      "cell_type": "code",
      "metadata": {
        "id": "aWqn3TDHj_3b",
        "colab": {
          "base_uri": "https://localhost:8080/"
        },
        "outputId": "9764ffc0-dfa3-44c5-8c9d-c7b20c2e5846"
      },
      "source": [
        "from google.colab import drive\n",
        "drive.mount('/content/drive')\n",
        "import pandas as pd\n",
        "df = pd.read_csv(\"/content/drive/My Drive/data.csv\")"
      ],
      "execution_count": null,
      "outputs": [
        {
          "output_type": "stream",
          "text": [
            "Mounted at /content/drive\n"
          ],
          "name": "stdout"
        }
      ]
    },
    {
      "cell_type": "markdown",
      "metadata": {
        "id": "h7FNKqZjrjlS"
      },
      "source": [
        "##ขั้นตอนที่2 Import Library\n",
        "\n"
      ]
    },
    {
      "cell_type": "code",
      "metadata": {
        "id": "rjF-ZCtprejM"
      },
      "source": [
        "## import for data\n",
        "import json\n",
        "import pandas as pd\n",
        "import numpy as np\n",
        "## import for plotting\n",
        "import matplotlib.pyplot as plt\n",
        "import seaborn as sns\n",
        "## import for processing\n",
        "import re\n",
        "import nltk\n",
        "## import for bag-of-words\n",
        "from sklearn import feature_extraction, model_selection, naive_bayes, pipeline, manifold, preprocessing\n",
        "## import for word embedding\n",
        "import gensim\n",
        "import gensim.downloader as gensim_api\n",
        "## import for deep learning\n",
        "from tensorflow.keras import models, layers, preprocessing as kprocessing\n",
        "from tensorflow.keras import backend as K\n"
      ],
      "execution_count": null,
      "outputs": []
    },
    {
      "cell_type": "markdown",
      "metadata": {
        "id": "f6h0_hVwHUcR"
      },
      "source": [
        "แสดงข้อมูลทั้งหมดอออกมาดูว่ามีข้อมูลเป็นลักษณะเช่นไร"
      ]
    },
    {
      "cell_type": "code",
      "metadata": {
        "colab": {
          "base_uri": "https://localhost:8080/",
          "height": 772
        },
        "id": "rQkfUy9IG8Wj",
        "outputId": "3e43ba03-d1c9-4546-e87b-5ca1af2f7f04"
      },
      "source": [
        "df"
      ],
      "execution_count": null,
      "outputs": [
        {
          "output_type": "execute_result",
          "data": {
            "text/html": [
              "<div>\n",
              "<style scoped>\n",
              "    .dataframe tbody tr th:only-of-type {\n",
              "        vertical-align: middle;\n",
              "    }\n",
              "\n",
              "    .dataframe tbody tr th {\n",
              "        vertical-align: top;\n",
              "    }\n",
              "\n",
              "    .dataframe thead th {\n",
              "        text-align: right;\n",
              "    }\n",
              "</style>\n",
              "<table border=\"1\" class=\"dataframe\">\n",
              "  <thead>\n",
              "    <tr style=\"text-align: right;\">\n",
              "      <th></th>\n",
              "      <th>Teacher</th>\n",
              "      <th>Title/Subject</th>\n",
              "      <th>Year</th>\n",
              "      <th>Source title</th>\n",
              "      <th>Cited by</th>\n",
              "      <th>Link</th>\n",
              "      <th>Abstract</th>\n",
              "      <th>Author Keywords</th>\n",
              "      <th>Index Keywords</th>\n",
              "      <th>Document Type</th>\n",
              "      <th>EID</th>\n",
              "      <th>Unnamed: 11</th>\n",
              "    </tr>\n",
              "  </thead>\n",
              "  <tbody>\n",
              "    <tr>\n",
              "      <th>0</th>\n",
              "      <td>tnt</td>\n",
              "      <td>An association rule mining approach to discove...</td>\n",
              "      <td>2021</td>\n",
              "      <td>International Journal of Knowledge and  System...</td>\n",
              "      <td>NaN</td>\n",
              "      <td>https://www.scopus.com/inward/record.uri?eid=2...</td>\n",
              "      <td>In the digital age, social media technology ha...</td>\n",
              "      <td>Association rule mining; Demand and supply ana...</td>\n",
              "      <td>NaN</td>\n",
              "      <td>Article</td>\n",
              "      <td>2-s2.0-85104037866</td>\n",
              "      <td>NaN</td>\n",
              "    </tr>\n",
              "    <tr>\n",
              "      <th>1</th>\n",
              "      <td>pps</td>\n",
              "      <td>Improvement of Difficulty Parameter Equating b...</td>\n",
              "      <td>2021</td>\n",
              "      <td>KST 2021 - 2021 13th International Conference ...</td>\n",
              "      <td>NaN</td>\n",
              "      <td>https://www.scopus.com/inward/record.uri?eid=2...</td>\n",
              "      <td>In automated test construction, one of the rem...</td>\n",
              "      <td>distribution; Item Response Theory (IRT); Line...</td>\n",
              "      <td>Mean square error; Automated test construction...</td>\n",
              "      <td>Conference Paper</td>\n",
              "      <td>2-s2.0-85105890877</td>\n",
              "      <td>NaN</td>\n",
              "    </tr>\n",
              "    <tr>\n",
              "      <th>2</th>\n",
              "      <td>pps</td>\n",
              "      <td>Data Preparation for Reducing Computational Ti...</td>\n",
              "      <td>2021</td>\n",
              "      <td>KST 2021 - 2021 13th International Conference ...</td>\n",
              "      <td>NaN</td>\n",
              "      <td>https://www.scopus.com/inward/record.uri?eid=2...</td>\n",
              "      <td>Training model in deep learning on action reco...</td>\n",
              "      <td>Action recognition; Computational cost; Deep l...</td>\n",
              "      <td>Deep learning; Action recognition; Computation...</td>\n",
              "      <td>Conference Paper</td>\n",
              "      <td>2-s2.0-85105869338</td>\n",
              "      <td>NaN</td>\n",
              "    </tr>\n",
              "    <tr>\n",
              "      <th>3</th>\n",
              "      <td>ppr</td>\n",
              "      <td>Overhead study of telegraf as a real-time moni...</td>\n",
              "      <td>2020</td>\n",
              "      <td>JCSSE 2020 - 17th International Joint Conferen...</td>\n",
              "      <td>NaN</td>\n",
              "      <td>https://www.scopus.com/inward/record.uri?eid=2...</td>\n",
              "      <td>Large-scale distributed systems have become an...</td>\n",
              "      <td>Datacenter; Experimental study; IoT; Monitorin...</td>\n",
              "      <td>NaN</td>\n",
              "      <td>Conference Paper</td>\n",
              "      <td>2-s2.0-85098488755</td>\n",
              "      <td>NaN</td>\n",
              "    </tr>\n",
              "    <tr>\n",
              "      <th>4</th>\n",
              "      <td>ssr</td>\n",
              "      <td>Method Evaluation for Software Testability on ...</td>\n",
              "      <td>2020</td>\n",
              "      <td>2020 59th Annual Conference of the Society of ...</td>\n",
              "      <td>NaN</td>\n",
              "      <td>https://www.scopus.com/inward/record.uri?eid=2...</td>\n",
              "      <td>In software testability, there are various sof...</td>\n",
              "      <td>Software Metrics tools; Software System Evalua...</td>\n",
              "      <td>Artificial intelligence; Budget control; Compu...</td>\n",
              "      <td>Conference Paper</td>\n",
              "      <td>2-s2.0-85096361247</td>\n",
              "      <td>NaN</td>\n",
              "    </tr>\n",
              "    <tr>\n",
              "      <th>...</th>\n",
              "      <td>...</td>\n",
              "      <td>...</td>\n",
              "      <td>...</td>\n",
              "      <td>...</td>\n",
              "      <td>...</td>\n",
              "      <td>...</td>\n",
              "      <td>...</td>\n",
              "      <td>...</td>\n",
              "      <td>...</td>\n",
              "      <td>...</td>\n",
              "      <td>...</td>\n",
              "      <td>...</td>\n",
              "    </tr>\n",
              "    <tr>\n",
              "      <th>599</th>\n",
              "      <td>lpp</td>\n",
              "      <td>INSTRUCTIONAL DESIGN AND DEVELOPMENT OF INTERA...</td>\n",
              "      <td>2018</td>\n",
              "      <td>NaN</td>\n",
              "      <td>NaN</td>\n",
              "      <td>NaN</td>\n",
              "      <td>Principles of and research in interactive mult...</td>\n",
              "      <td>NaN</td>\n",
              "      <td>NaN</td>\n",
              "      <td>Course</td>\n",
              "      <td>NaN</td>\n",
              "      <td>NaN</td>\n",
              "    </tr>\n",
              "    <tr>\n",
              "      <th>600</th>\n",
              "      <td>lpp</td>\n",
              "      <td>SELECTED TOPICS IN HUMAN-COMPUTER INTERACTION</td>\n",
              "      <td>2018</td>\n",
              "      <td>NaN</td>\n",
              "      <td>NaN</td>\n",
              "      <td>NaN</td>\n",
              "      <td>Seminar on current research and development in...</td>\n",
              "      <td>NaN</td>\n",
              "      <td>NaN</td>\n",
              "      <td>Course</td>\n",
              "      <td>NaN</td>\n",
              "      <td>NaN</td>\n",
              "    </tr>\n",
              "    <tr>\n",
              "      <th>601</th>\n",
              "      <td>wdp</td>\n",
              "      <td>NETWORK DESIGN AND MANAGEMENT</td>\n",
              "      <td>2018</td>\n",
              "      <td>NaN</td>\n",
              "      <td>NaN</td>\n",
              "      <td>NaN</td>\n",
              "      <td>Topics in computer network design and manageme...</td>\n",
              "      <td>NaN</td>\n",
              "      <td>NaN</td>\n",
              "      <td>Course</td>\n",
              "      <td>NaN</td>\n",
              "      <td>NaN</td>\n",
              "    </tr>\n",
              "    <tr>\n",
              "      <th>602</th>\n",
              "      <td>ppr</td>\n",
              "      <td>SELECTED TOPICS IN DATA SCIENCE</td>\n",
              "      <td>2018</td>\n",
              "      <td>NaN</td>\n",
              "      <td>NaN</td>\n",
              "      <td>NaN</td>\n",
              "      <td>The purpose of Selected Topics in Data Science...</td>\n",
              "      <td>NaN</td>\n",
              "      <td>NaN</td>\n",
              "      <td>Course</td>\n",
              "      <td>NaN</td>\n",
              "      <td>NaN</td>\n",
              "    </tr>\n",
              "    <tr>\n",
              "      <th>603</th>\n",
              "      <td>pps</td>\n",
              "      <td>SELECTED TOPICS IN DATA SCIENCE</td>\n",
              "      <td>2018</td>\n",
              "      <td>NaN</td>\n",
              "      <td>NaN</td>\n",
              "      <td>NaN</td>\n",
              "      <td>The purpose of Selected Topics in Data Science...</td>\n",
              "      <td>NaN</td>\n",
              "      <td>NaN</td>\n",
              "      <td>Course</td>\n",
              "      <td>NaN</td>\n",
              "      <td>NaN</td>\n",
              "    </tr>\n",
              "  </tbody>\n",
              "</table>\n",
              "<p>604 rows × 12 columns</p>\n",
              "</div>"
            ],
            "text/plain": [
              "    Teacher  ... Unnamed: 11\n",
              "0       tnt  ...         NaN\n",
              "1       pps  ...         NaN\n",
              "2       pps  ...         NaN\n",
              "3       ppr  ...         NaN\n",
              "4       ssr  ...         NaN\n",
              "..      ...  ...         ...\n",
              "599     lpp  ...         NaN\n",
              "600     lpp  ...         NaN\n",
              "601     wdp  ...         NaN\n",
              "602     ppr  ...         NaN\n",
              "603     pps  ...         NaN\n",
              "\n",
              "[604 rows x 12 columns]"
            ]
          },
          "metadata": {
            "tags": []
          },
          "execution_count": 3
        }
      ]
    },
    {
      "cell_type": "markdown",
      "metadata": {
        "id": "zellnyjstnlQ"
      },
      "source": [
        "## ขั้นตอนที่3 Dropping Columns in a DataFrame"
      ]
    },
    {
      "cell_type": "markdown",
      "metadata": {
        "id": "GPKsW9ggvhL_"
      },
      "source": [
        "จะเห็นได้ว่ามีบางคอลัมน์ที่ไม่ได้ใช้ประโยชน์ โดยจะ drop คอลัมน์ ดังต่อไปนี้ Source title ,cited by,year,  Link ,\tDocument Type ,\tEID และ Unnamed: 11 เนื่องจากเป็นข้อมูลที่ไม่ใช้"
      ]
    },
    {
      "cell_type": "code",
      "metadata": {
        "id": "yvqR9r_Kth9k"
      },
      "source": [
        "df.drop(['Source title', 'Link','Year','Cited by','Document Type', 'EID','Unnamed: 11'] , axis='columns', inplace=True)"
      ],
      "execution_count": null,
      "outputs": []
    },
    {
      "cell_type": "code",
      "metadata": {
        "colab": {
          "base_uri": "https://localhost:8080/",
          "height": 418
        },
        "id": "gcwe7SDuH2vr",
        "outputId": "0d582768-59a1-4c4d-a567-2bab50b22ef1"
      },
      "source": [
        "df"
      ],
      "execution_count": null,
      "outputs": [
        {
          "output_type": "execute_result",
          "data": {
            "text/html": [
              "<div>\n",
              "<style scoped>\n",
              "    .dataframe tbody tr th:only-of-type {\n",
              "        vertical-align: middle;\n",
              "    }\n",
              "\n",
              "    .dataframe tbody tr th {\n",
              "        vertical-align: top;\n",
              "    }\n",
              "\n",
              "    .dataframe thead th {\n",
              "        text-align: right;\n",
              "    }\n",
              "</style>\n",
              "<table border=\"1\" class=\"dataframe\">\n",
              "  <thead>\n",
              "    <tr style=\"text-align: right;\">\n",
              "      <th></th>\n",
              "      <th>Teacher</th>\n",
              "      <th>Title/Subject</th>\n",
              "      <th>Abstract</th>\n",
              "      <th>Author Keywords</th>\n",
              "      <th>Index Keywords</th>\n",
              "    </tr>\n",
              "  </thead>\n",
              "  <tbody>\n",
              "    <tr>\n",
              "      <th>0</th>\n",
              "      <td>tnt</td>\n",
              "      <td>An association rule mining approach to discove...</td>\n",
              "      <td>In the digital age, social media technology ha...</td>\n",
              "      <td>Association rule mining; Demand and supply ana...</td>\n",
              "      <td>NaN</td>\n",
              "    </tr>\n",
              "    <tr>\n",
              "      <th>1</th>\n",
              "      <td>pps</td>\n",
              "      <td>Improvement of Difficulty Parameter Equating b...</td>\n",
              "      <td>In automated test construction, one of the rem...</td>\n",
              "      <td>distribution; Item Response Theory (IRT); Line...</td>\n",
              "      <td>Mean square error; Automated test construction...</td>\n",
              "    </tr>\n",
              "    <tr>\n",
              "      <th>2</th>\n",
              "      <td>pps</td>\n",
              "      <td>Data Preparation for Reducing Computational Ti...</td>\n",
              "      <td>Training model in deep learning on action reco...</td>\n",
              "      <td>Action recognition; Computational cost; Deep l...</td>\n",
              "      <td>Deep learning; Action recognition; Computation...</td>\n",
              "    </tr>\n",
              "    <tr>\n",
              "      <th>3</th>\n",
              "      <td>ppr</td>\n",
              "      <td>Overhead study of telegraf as a real-time moni...</td>\n",
              "      <td>Large-scale distributed systems have become an...</td>\n",
              "      <td>Datacenter; Experimental study; IoT; Monitorin...</td>\n",
              "      <td>NaN</td>\n",
              "    </tr>\n",
              "    <tr>\n",
              "      <th>4</th>\n",
              "      <td>ssr</td>\n",
              "      <td>Method Evaluation for Software Testability on ...</td>\n",
              "      <td>In software testability, there are various sof...</td>\n",
              "      <td>Software Metrics tools; Software System Evalua...</td>\n",
              "      <td>Artificial intelligence; Budget control; Compu...</td>\n",
              "    </tr>\n",
              "    <tr>\n",
              "      <th>...</th>\n",
              "      <td>...</td>\n",
              "      <td>...</td>\n",
              "      <td>...</td>\n",
              "      <td>...</td>\n",
              "      <td>...</td>\n",
              "    </tr>\n",
              "    <tr>\n",
              "      <th>599</th>\n",
              "      <td>lpp</td>\n",
              "      <td>INSTRUCTIONAL DESIGN AND DEVELOPMENT OF INTERA...</td>\n",
              "      <td>Principles of and research in interactive mult...</td>\n",
              "      <td>NaN</td>\n",
              "      <td>NaN</td>\n",
              "    </tr>\n",
              "    <tr>\n",
              "      <th>600</th>\n",
              "      <td>lpp</td>\n",
              "      <td>SELECTED TOPICS IN HUMAN-COMPUTER INTERACTION</td>\n",
              "      <td>Seminar on current research and development in...</td>\n",
              "      <td>NaN</td>\n",
              "      <td>NaN</td>\n",
              "    </tr>\n",
              "    <tr>\n",
              "      <th>601</th>\n",
              "      <td>wdp</td>\n",
              "      <td>NETWORK DESIGN AND MANAGEMENT</td>\n",
              "      <td>Topics in computer network design and manageme...</td>\n",
              "      <td>NaN</td>\n",
              "      <td>NaN</td>\n",
              "    </tr>\n",
              "    <tr>\n",
              "      <th>602</th>\n",
              "      <td>ppr</td>\n",
              "      <td>SELECTED TOPICS IN DATA SCIENCE</td>\n",
              "      <td>The purpose of Selected Topics in Data Science...</td>\n",
              "      <td>NaN</td>\n",
              "      <td>NaN</td>\n",
              "    </tr>\n",
              "    <tr>\n",
              "      <th>603</th>\n",
              "      <td>pps</td>\n",
              "      <td>SELECTED TOPICS IN DATA SCIENCE</td>\n",
              "      <td>The purpose of Selected Topics in Data Science...</td>\n",
              "      <td>NaN</td>\n",
              "      <td>NaN</td>\n",
              "    </tr>\n",
              "  </tbody>\n",
              "</table>\n",
              "<p>604 rows × 5 columns</p>\n",
              "</div>"
            ],
            "text/plain": [
              "    Teacher  ...                                     Index Keywords\n",
              "0       tnt  ...                                                NaN\n",
              "1       pps  ...  Mean square error; Automated test construction...\n",
              "2       pps  ...  Deep learning; Action recognition; Computation...\n",
              "3       ppr  ...                                                NaN\n",
              "4       ssr  ...  Artificial intelligence; Budget control; Compu...\n",
              "..      ...  ...                                                ...\n",
              "599     lpp  ...                                                NaN\n",
              "600     lpp  ...                                                NaN\n",
              "601     wdp  ...                                                NaN\n",
              "602     ppr  ...                                                NaN\n",
              "603     pps  ...                                                NaN\n",
              "\n",
              "[604 rows x 5 columns]"
            ]
          },
          "metadata": {
            "tags": []
          },
          "execution_count": 5
        }
      ]
    },
    {
      "cell_type": "code",
      "metadata": {
        "id": "7idsPfBfKHvm"
      },
      "source": [
        "#เปลี่ยนชื่อcolumn ให้เข้าใจได้ง่ายขึ้น\n",
        "df = df.rename(columns={'Title/Subject': 'Title'})"
      ],
      "execution_count": null,
      "outputs": []
    },
    {
      "cell_type": "markdown",
      "metadata": {
        "id": "7_38nL71yeQv"
      },
      "source": [
        "ตรวจสอบว่าในแต่ละคอลัมน์มีข้อมูลที่ขาดหายไปจำนวนเท่าไหร่"
      ]
    },
    {
      "cell_type": "code",
      "metadata": {
        "colab": {
          "base_uri": "https://localhost:8080/"
        },
        "id": "24zqNE1EusP7",
        "outputId": "9366c2e9-4dd6-4913-9373-cbd660f7a5ae"
      },
      "source": [
        "df.isnull().sum()"
      ],
      "execution_count": null,
      "outputs": [
        {
          "output_type": "execute_result",
          "data": {
            "text/plain": [
              "Teacher             54\n",
              "Title               14\n",
              "Abstract            13\n",
              "Author Keywords    371\n",
              "Index Keywords     410\n",
              "dtype: int64"
            ]
          },
          "metadata": {
            "tags": []
          },
          "execution_count": 7
        }
      ]
    },
    {
      "cell_type": "markdown",
      "metadata": {
        "id": "WIn6GTb-7JGE"
      },
      "source": [
        "## ขั้นตอนที่4 Check and create new columns"
      ]
    },
    {
      "cell_type": "code",
      "metadata": {
        "id": "d2qfXrW46BpP",
        "colab": {
          "base_uri": "https://localhost:8080/"
        },
        "outputId": "2683eebc-a608-4305-ce29-adaf3b176472"
      },
      "source": [
        "#drop ข้อมูลของอาจารย์ผู้สอนที่เป็น null ออกเนื่องจากเป็นอาจารย์ที่ไม่ได้อยู่ในภาควิชา\n",
        "#drop ข้อมูลที่ไม่มีชื่อเรื่องออก\n",
        "df = df.dropna(how='all',subset=['Teacher'])\n",
        "df = df.dropna(how='all',subset=['Title'])\n",
        "#เติมข้อมูลที่เป็น null ด้วยช่องว่างเพื่อเวลานำไปใช้งานต่อไป\n",
        "df['Author Keywords'].fillna(\" \", inplace=True)\n",
        "df['Abstract'].fillna(\" \", inplace=True)\n",
        "df['Index Keywords'].fillna(\" \", inplace=True)\n",
        "df.isnull().sum()"
      ],
      "execution_count": null,
      "outputs": [
        {
          "output_type": "execute_result",
          "data": {
            "text/plain": [
              "Teacher            0\n",
              "Title              0\n",
              "Abstract           0\n",
              "Author Keywords    0\n",
              "Index Keywords     0\n",
              "dtype: int64"
            ]
          },
          "metadata": {
            "tags": []
          },
          "execution_count": 8
        }
      ]
    },
    {
      "cell_type": "markdown",
      "metadata": {
        "id": "9nfnd9as5eOr"
      },
      "source": [
        "เพิ่มคอลัมน์ชื่อว่า \"add\" โดย นำคอลัมน์ต่อไปนี้มารวมข้อความกัน Title , Abstract , Index Keywords , Author Keywords"
      ]
    },
    {
      "cell_type": "code",
      "metadata": {
        "id": "Mes11l47u6aV"
      },
      "source": [
        "df[\"add\"] =  df[\"Title\"] +df[\"Abstract\"] + df[\"Index Keywords\"] +  df[\"Author Keywords\"]"
      ],
      "execution_count": null,
      "outputs": []
    },
    {
      "cell_type": "markdown",
      "metadata": {
        "id": "zo4LTYcDwQg_"
      },
      "source": [
        "##ขั้นตอนที่5 Preprocessing"
      ]
    },
    {
      "cell_type": "markdown",
      "metadata": {
        "id": "e_2RZKFb7pyC"
      },
      "source": [
        "โดยสร้างฟังก์ชัน ชื่อว่า utils_preprocess_text\n",
        "\n",
        "clean - แปลงตัวอักษรให้เป็นตัวอักษรพิมพ์เล็กทั้งหมด ลบเครื่องหมายวรรคตอนและอักขระออก\n",
        "\n",
        "Tokenize - แปลง string เป็น list\n",
        "\n",
        "Stemming - ลบ  -ing, -ly, ฯลฯ \n",
        "\n",
        "Lemmatisation - แปลงคำศัพท์ เป็น รากคำศัพท์\n"
      ]
    },
    {
      "cell_type": "code",
      "metadata": {
        "id": "9-0Jt7XT7ysj"
      },
      "source": [
        "def utils_preprocess_text(text, flg_stemm=False, flg_lemm=True, lst_stopwords=None):\n",
        "    ## clean (convert to lowercase and remove punctuations and characters and then strip)\n",
        "    text = re.sub(r'[^\\w\\s]', '', str(text).lower().strip())\n",
        "            \n",
        "    ## Tokenize (convert from string to list)\n",
        "    lst_text = text.split()\n",
        "    ## remove Stopwords\n",
        "    if lst_stopwords is not None:\n",
        "        lst_text = [word for word in lst_text if word not in \n",
        "                    lst_stopwords]\n",
        "                \n",
        "    ## Stemming (remove -ing, -ly, ...)\n",
        "    if flg_stemm == True:\n",
        "        ps = nltk.stem.porter.PorterStemmer()\n",
        "        lst_text = [ps.stem(word) for word in lst_text]\n",
        "                \n",
        "    ## Lemmatisation (convert the word into root word)\n",
        "    if flg_lemm == True:\n",
        "        lem = nltk.stem.wordnet.WordNetLemmatizer()\n",
        "        lst_text = [lem.lemmatize(word) for word in lst_text]\n",
        "            \n",
        "    ## back to string from list\n",
        "    text = \" \".join(lst_text)\n",
        "    return text"
      ],
      "execution_count": null,
      "outputs": []
    },
    {
      "cell_type": "markdown",
      "metadata": {
        "id": "MSMJ1xes_V1J"
      },
      "source": [
        "เรียกใช้ โมดูลในภาษาไพทอนที่ช่วยในการประมวลภาษาธรรมชาติ ( Natural Language Toolkit )\n",
        "\n",
        "โดยการดาวน์โหลด \"stopword\" เป็นคำที่ไม่มีความหมายที่ชัดเจน ดังต่อไปนี้"
      ]
    },
    {
      "cell_type": "code",
      "metadata": {
        "id": "VCza9NeI_N_G",
        "colab": {
          "base_uri": "https://localhost:8080/"
        },
        "outputId": "b0392b77-72e7-49b0-83fe-8a42ec8e0725"
      },
      "source": [
        "import nltk\n",
        "nltk.download('stopwords')\n",
        "nltk.download('wordnet')\n",
        "lst_stopwords = nltk.corpus.stopwords.words(\"english\")\n",
        "lst_stopwords"
      ],
      "execution_count": null,
      "outputs": [
        {
          "output_type": "stream",
          "text": [
            "[nltk_data] Downloading package stopwords to /root/nltk_data...\n",
            "[nltk_data]   Unzipping corpora/stopwords.zip.\n",
            "[nltk_data] Downloading package wordnet to /root/nltk_data...\n",
            "[nltk_data]   Unzipping corpora/wordnet.zip.\n"
          ],
          "name": "stdout"
        },
        {
          "output_type": "execute_result",
          "data": {
            "text/plain": [
              "['i',\n",
              " 'me',\n",
              " 'my',\n",
              " 'myself',\n",
              " 'we',\n",
              " 'our',\n",
              " 'ours',\n",
              " 'ourselves',\n",
              " 'you',\n",
              " \"you're\",\n",
              " \"you've\",\n",
              " \"you'll\",\n",
              " \"you'd\",\n",
              " 'your',\n",
              " 'yours',\n",
              " 'yourself',\n",
              " 'yourselves',\n",
              " 'he',\n",
              " 'him',\n",
              " 'his',\n",
              " 'himself',\n",
              " 'she',\n",
              " \"she's\",\n",
              " 'her',\n",
              " 'hers',\n",
              " 'herself',\n",
              " 'it',\n",
              " \"it's\",\n",
              " 'its',\n",
              " 'itself',\n",
              " 'they',\n",
              " 'them',\n",
              " 'their',\n",
              " 'theirs',\n",
              " 'themselves',\n",
              " 'what',\n",
              " 'which',\n",
              " 'who',\n",
              " 'whom',\n",
              " 'this',\n",
              " 'that',\n",
              " \"that'll\",\n",
              " 'these',\n",
              " 'those',\n",
              " 'am',\n",
              " 'is',\n",
              " 'are',\n",
              " 'was',\n",
              " 'were',\n",
              " 'be',\n",
              " 'been',\n",
              " 'being',\n",
              " 'have',\n",
              " 'has',\n",
              " 'had',\n",
              " 'having',\n",
              " 'do',\n",
              " 'does',\n",
              " 'did',\n",
              " 'doing',\n",
              " 'a',\n",
              " 'an',\n",
              " 'the',\n",
              " 'and',\n",
              " 'but',\n",
              " 'if',\n",
              " 'or',\n",
              " 'because',\n",
              " 'as',\n",
              " 'until',\n",
              " 'while',\n",
              " 'of',\n",
              " 'at',\n",
              " 'by',\n",
              " 'for',\n",
              " 'with',\n",
              " 'about',\n",
              " 'against',\n",
              " 'between',\n",
              " 'into',\n",
              " 'through',\n",
              " 'during',\n",
              " 'before',\n",
              " 'after',\n",
              " 'above',\n",
              " 'below',\n",
              " 'to',\n",
              " 'from',\n",
              " 'up',\n",
              " 'down',\n",
              " 'in',\n",
              " 'out',\n",
              " 'on',\n",
              " 'off',\n",
              " 'over',\n",
              " 'under',\n",
              " 'again',\n",
              " 'further',\n",
              " 'then',\n",
              " 'once',\n",
              " 'here',\n",
              " 'there',\n",
              " 'when',\n",
              " 'where',\n",
              " 'why',\n",
              " 'how',\n",
              " 'all',\n",
              " 'any',\n",
              " 'both',\n",
              " 'each',\n",
              " 'few',\n",
              " 'more',\n",
              " 'most',\n",
              " 'other',\n",
              " 'some',\n",
              " 'such',\n",
              " 'no',\n",
              " 'nor',\n",
              " 'not',\n",
              " 'only',\n",
              " 'own',\n",
              " 'same',\n",
              " 'so',\n",
              " 'than',\n",
              " 'too',\n",
              " 'very',\n",
              " 's',\n",
              " 't',\n",
              " 'can',\n",
              " 'will',\n",
              " 'just',\n",
              " 'don',\n",
              " \"don't\",\n",
              " 'should',\n",
              " \"should've\",\n",
              " 'now',\n",
              " 'd',\n",
              " 'll',\n",
              " 'm',\n",
              " 'o',\n",
              " 're',\n",
              " 've',\n",
              " 'y',\n",
              " 'ain',\n",
              " 'aren',\n",
              " \"aren't\",\n",
              " 'couldn',\n",
              " \"couldn't\",\n",
              " 'didn',\n",
              " \"didn't\",\n",
              " 'doesn',\n",
              " \"doesn't\",\n",
              " 'hadn',\n",
              " \"hadn't\",\n",
              " 'hasn',\n",
              " \"hasn't\",\n",
              " 'haven',\n",
              " \"haven't\",\n",
              " 'isn',\n",
              " \"isn't\",\n",
              " 'ma',\n",
              " 'mightn',\n",
              " \"mightn't\",\n",
              " 'mustn',\n",
              " \"mustn't\",\n",
              " 'needn',\n",
              " \"needn't\",\n",
              " 'shan',\n",
              " \"shan't\",\n",
              " 'shouldn',\n",
              " \"shouldn't\",\n",
              " 'wasn',\n",
              " \"wasn't\",\n",
              " 'weren',\n",
              " \"weren't\",\n",
              " 'won',\n",
              " \"won't\",\n",
              " 'wouldn',\n",
              " \"wouldn't\"]"
            ]
          },
          "metadata": {
            "tags": []
          },
          "execution_count": 11
        }
      ]
    },
    {
      "cell_type": "markdown",
      "metadata": {
        "id": "hIWCXIWiAYCC"
      },
      "source": [
        "สร้างคอลัมน์ใหม่ที่ชื่อว่า \"text_Abstract\" โดย เรียกใช้ฟังก์ชัน utils_preprocess_text\n"
      ]
    },
    {
      "cell_type": "code",
      "metadata": {
        "id": "9McsynPXAemf"
      },
      "source": [
        "df[\"text_clean\"] = df[\"add\"].apply(lambda x: utils_preprocess_text(x, flg_stemm=False, flg_lemm=True, lst_stopwords=lst_stopwords))"
      ],
      "execution_count": null,
      "outputs": []
    },
    {
      "cell_type": "code",
      "metadata": {
        "colab": {
          "base_uri": "https://localhost:8080/",
          "height": 587
        },
        "id": "DgPyit8JS1W_",
        "outputId": "cfeb024d-3cd0-4c5d-fa49-ad0ee142498d"
      },
      "source": [
        "#print ข้อมูลออกมาดูจะพบว่าข้อมูล column text_clean สามารถนำไปวิเคราะห์ต่อได้\n",
        "df"
      ],
      "execution_count": null,
      "outputs": [
        {
          "output_type": "execute_result",
          "data": {
            "text/html": [
              "<div>\n",
              "<style scoped>\n",
              "    .dataframe tbody tr th:only-of-type {\n",
              "        vertical-align: middle;\n",
              "    }\n",
              "\n",
              "    .dataframe tbody tr th {\n",
              "        vertical-align: top;\n",
              "    }\n",
              "\n",
              "    .dataframe thead th {\n",
              "        text-align: right;\n",
              "    }\n",
              "</style>\n",
              "<table border=\"1\" class=\"dataframe\">\n",
              "  <thead>\n",
              "    <tr style=\"text-align: right;\">\n",
              "      <th></th>\n",
              "      <th>Teacher</th>\n",
              "      <th>Title</th>\n",
              "      <th>Abstract</th>\n",
              "      <th>Author Keywords</th>\n",
              "      <th>Index Keywords</th>\n",
              "      <th>add</th>\n",
              "      <th>text_clean</th>\n",
              "    </tr>\n",
              "  </thead>\n",
              "  <tbody>\n",
              "    <tr>\n",
              "      <th>0</th>\n",
              "      <td>tnt</td>\n",
              "      <td>An association rule mining approach to discove...</td>\n",
              "      <td>In the digital age, social media technology ha...</td>\n",
              "      <td>Association rule mining; Demand and supply ana...</td>\n",
              "      <td></td>\n",
              "      <td>An association rule mining approach to discove...</td>\n",
              "      <td>association rule mining approach discover dema...</td>\n",
              "    </tr>\n",
              "    <tr>\n",
              "      <th>1</th>\n",
              "      <td>pps</td>\n",
              "      <td>Improvement of Difficulty Parameter Equating b...</td>\n",
              "      <td>In automated test construction, one of the rem...</td>\n",
              "      <td>distribution; Item Response Theory (IRT); Line...</td>\n",
              "      <td>Mean square error; Automated test construction...</td>\n",
              "      <td>Improvement of Difficulty Parameter Equating b...</td>\n",
              "      <td>improvement difficulty parameter equating base...</td>\n",
              "    </tr>\n",
              "    <tr>\n",
              "      <th>2</th>\n",
              "      <td>pps</td>\n",
              "      <td>Data Preparation for Reducing Computational Ti...</td>\n",
              "      <td>Training model in deep learning on action reco...</td>\n",
              "      <td>Action recognition; Computational cost; Deep l...</td>\n",
              "      <td>Deep learning; Action recognition; Computation...</td>\n",
              "      <td>Data Preparation for Reducing Computational Ti...</td>\n",
              "      <td>data preparation reducing computational time t...</td>\n",
              "    </tr>\n",
              "    <tr>\n",
              "      <th>3</th>\n",
              "      <td>ppr</td>\n",
              "      <td>Overhead study of telegraf as a real-time moni...</td>\n",
              "      <td>Large-scale distributed systems have become an...</td>\n",
              "      <td>Datacenter; Experimental study; IoT; Monitorin...</td>\n",
              "      <td></td>\n",
              "      <td>Overhead study of telegraf as a real-time moni...</td>\n",
              "      <td>overhead study telegraf realtime monitoring ag...</td>\n",
              "    </tr>\n",
              "    <tr>\n",
              "      <th>4</th>\n",
              "      <td>ssr</td>\n",
              "      <td>Method Evaluation for Software Testability on ...</td>\n",
              "      <td>In software testability, there are various sof...</td>\n",
              "      <td>Software Metrics tools; Software System Evalua...</td>\n",
              "      <td>Artificial intelligence; Budget control; Compu...</td>\n",
              "      <td>Method Evaluation for Software Testability on ...</td>\n",
              "      <td>method evaluation software testability object ...</td>\n",
              "    </tr>\n",
              "    <tr>\n",
              "      <th>...</th>\n",
              "      <td>...</td>\n",
              "      <td>...</td>\n",
              "      <td>...</td>\n",
              "      <td>...</td>\n",
              "      <td>...</td>\n",
              "      <td>...</td>\n",
              "      <td>...</td>\n",
              "    </tr>\n",
              "    <tr>\n",
              "      <th>599</th>\n",
              "      <td>lpp</td>\n",
              "      <td>INSTRUCTIONAL DESIGN AND DEVELOPMENT OF INTERA...</td>\n",
              "      <td>Principles of and research in interactive mult...</td>\n",
              "      <td></td>\n",
              "      <td></td>\n",
              "      <td>INSTRUCTIONAL DESIGN AND DEVELOPMENT OF INTERA...</td>\n",
              "      <td>instructional design development interactive m...</td>\n",
              "    </tr>\n",
              "    <tr>\n",
              "      <th>600</th>\n",
              "      <td>lpp</td>\n",
              "      <td>SELECTED TOPICS IN HUMAN-COMPUTER INTERACTION</td>\n",
              "      <td>Seminar on current research and development in...</td>\n",
              "      <td></td>\n",
              "      <td></td>\n",
              "      <td>SELECTED TOPICS IN HUMAN-COMPUTER INTERACTIONS...</td>\n",
              "      <td>selected topic humancomputer interactionsemina...</td>\n",
              "    </tr>\n",
              "    <tr>\n",
              "      <th>601</th>\n",
              "      <td>wdp</td>\n",
              "      <td>NETWORK DESIGN AND MANAGEMENT</td>\n",
              "      <td>Topics in computer network design and manageme...</td>\n",
              "      <td></td>\n",
              "      <td></td>\n",
              "      <td>NETWORK DESIGN AND MANAGEMENTTopics in compute...</td>\n",
              "      <td>network design managementtopics computer netwo...</td>\n",
              "    </tr>\n",
              "    <tr>\n",
              "      <th>602</th>\n",
              "      <td>ppr</td>\n",
              "      <td>SELECTED TOPICS IN DATA SCIENCE</td>\n",
              "      <td>The purpose of Selected Topics in Data Science...</td>\n",
              "      <td></td>\n",
              "      <td></td>\n",
              "      <td>SELECTED TOPICS IN DATA SCIENCEThe purpose of ...</td>\n",
              "      <td>selected topic data sciencethe purpose selecte...</td>\n",
              "    </tr>\n",
              "    <tr>\n",
              "      <th>603</th>\n",
              "      <td>pps</td>\n",
              "      <td>SELECTED TOPICS IN DATA SCIENCE</td>\n",
              "      <td>The purpose of Selected Topics in Data Science...</td>\n",
              "      <td></td>\n",
              "      <td></td>\n",
              "      <td>SELECTED TOPICS IN DATA SCIENCEThe purpose of ...</td>\n",
              "      <td>selected topic data sciencethe purpose selecte...</td>\n",
              "    </tr>\n",
              "  </tbody>\n",
              "</table>\n",
              "<p>536 rows × 7 columns</p>\n",
              "</div>"
            ],
            "text/plain": [
              "    Teacher  ...                                         text_clean\n",
              "0       tnt  ...  association rule mining approach discover dema...\n",
              "1       pps  ...  improvement difficulty parameter equating base...\n",
              "2       pps  ...  data preparation reducing computational time t...\n",
              "3       ppr  ...  overhead study telegraf realtime monitoring ag...\n",
              "4       ssr  ...  method evaluation software testability object ...\n",
              "..      ...  ...                                                ...\n",
              "599     lpp  ...  instructional design development interactive m...\n",
              "600     lpp  ...  selected topic humancomputer interactionsemina...\n",
              "601     wdp  ...  network design managementtopics computer netwo...\n",
              "602     ppr  ...  selected topic data sciencethe purpose selecte...\n",
              "603     pps  ...  selected topic data sciencethe purpose selecte...\n",
              "\n",
              "[536 rows x 7 columns]"
            ]
          },
          "metadata": {
            "tags": []
          },
          "execution_count": 13
        }
      ]
    },
    {
      "cell_type": "code",
      "metadata": {
        "colab": {
          "base_uri": "https://localhost:8080/",
          "height": 17
        },
        "id": "Bd2JTTheTRHb",
        "outputId": "fbd1bdba-4c7a-4646-d89f-264658d5d7b8"
      },
      "source": [
        "#download file csv เพื่อนำไปวิเคราะห์ต่อ\n",
        "from google.colab import files\n",
        "df.to_csv('dataclean.csv') \n",
        "files.download('dataclean.csv')"
      ],
      "execution_count": null,
      "outputs": [
        {
          "output_type": "display_data",
          "data": {
            "application/javascript": [
              "\n",
              "    async function download(id, filename, size) {\n",
              "      if (!google.colab.kernel.accessAllowed) {\n",
              "        return;\n",
              "      }\n",
              "      const div = document.createElement('div');\n",
              "      const label = document.createElement('label');\n",
              "      label.textContent = `Downloading \"${filename}\": `;\n",
              "      div.appendChild(label);\n",
              "      const progress = document.createElement('progress');\n",
              "      progress.max = size;\n",
              "      div.appendChild(progress);\n",
              "      document.body.appendChild(div);\n",
              "\n",
              "      const buffers = [];\n",
              "      let downloaded = 0;\n",
              "\n",
              "      const channel = await google.colab.kernel.comms.open(id);\n",
              "      // Send a message to notify the kernel that we're ready.\n",
              "      channel.send({})\n",
              "\n",
              "      for await (const message of channel.messages) {\n",
              "        // Send a message to notify the kernel that we're ready.\n",
              "        channel.send({})\n",
              "        if (message.buffers) {\n",
              "          for (const buffer of message.buffers) {\n",
              "            buffers.push(buffer);\n",
              "            downloaded += buffer.byteLength;\n",
              "            progress.value = downloaded;\n",
              "          }\n",
              "        }\n",
              "      }\n",
              "      const blob = new Blob(buffers, {type: 'application/binary'});\n",
              "      const a = document.createElement('a');\n",
              "      a.href = window.URL.createObjectURL(blob);\n",
              "      a.download = filename;\n",
              "      div.appendChild(a);\n",
              "      a.click();\n",
              "      div.remove();\n",
              "    }\n",
              "  "
            ],
            "text/plain": [
              "<IPython.core.display.Javascript object>"
            ]
          },
          "metadata": {
            "tags": []
          }
        },
        {
          "output_type": "display_data",
          "data": {
            "application/javascript": [
              "download(\"download_7f6ded9f-d02c-48f9-8722-0251a4ae81bc\", \"dataclean.csv\", 1367927)"
            ],
            "text/plain": [
              "<IPython.core.display.Javascript object>"
            ]
          },
          "metadata": {
            "tags": []
          }
        }
      ]
    },
    {
      "cell_type": "code",
      "metadata": {
        "id": "5-HTu-LkTTA_"
      },
      "source": [
        ""
      ],
      "execution_count": null,
      "outputs": []
    }
  ]
}